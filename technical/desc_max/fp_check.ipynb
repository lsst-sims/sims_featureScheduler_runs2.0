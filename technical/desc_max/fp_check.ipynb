{
 "cells": [
  {
   "cell_type": "code",
   "execution_count": 1,
   "id": "f05594e5",
   "metadata": {},
   "outputs": [],
   "source": [
    "import numpy as np\n",
    "import matplotlib.pylab as plt\n",
    "import healpy as hp\n",
    "from rubin_sim.scheduler.utils import combo_dust_fp"
   ]
  },
  {
   "cell_type": "code",
   "execution_count": 2,
   "id": "a687f97c",
   "metadata": {},
   "outputs": [
    {
     "name": "stderr",
     "output_type": "stream",
     "text": [
      "/Users/yoachim/anaconda3/envs/testenv/lib/python3.9/site-packages/healpy/sphtfunc.py:822: UserWarning: Sigma is 145.234028 arcmin (0.042247 rad) \n",
      "  warnings.warn(\n",
      "/Users/yoachim/anaconda3/envs/testenv/lib/python3.9/site-packages/healpy/sphtfunc.py:827: UserWarning: -> fwhm is 342.000000 arcmin\n",
      "  warnings.warn(\n",
      "/Users/yoachim/anaconda3/envs/testenv/lib/python3.9/site-packages/healpy/sphtfunc.py:822: UserWarning: Sigma is 0.000000 arcmin (0.000000 rad) \n",
      "  warnings.warn(\n",
      "/Users/yoachim/anaconda3/envs/testenv/lib/python3.9/site-packages/healpy/sphtfunc.py:827: UserWarning: -> fwhm is 0.000000 arcmin\n",
      "  warnings.warn(\n"
     ]
    }
   ],
   "source": [
    "nside=32\n",
    "footprints_hp = combo_dust_fp(nside=nside, north_weights={},\n",
    "                              nes_weights={'u':0, 'g':0,'r':0,'i':0,'z':0, 'y':0},\n",
    "                             wfd_dust_weights={'u': 0., 'g': 0., 'r': 0., 'i': 0., 'z': 0., 'y': 0.},\n",
    "                             mc_wfd=False, bulge_radius=0,\n",
    "                             outer_bridge_width=0., ses_dist_eclip=0,\n",
    "                             wfd_north_dec=14., wfd_south_dec=-73)"
   ]
  },
  {
   "cell_type": "code",
   "execution_count": 3,
   "id": "53c4ab38",
   "metadata": {},
   "outputs": [
    {
     "name": "stderr",
     "output_type": "stream",
     "text": [
      "/Users/yoachim/anaconda3/envs/testenv/lib/python3.9/site-packages/healpy/projaxes.py:920: MatplotlibDeprecationWarning: You are modifying the state of a globally registered colormap. This has been deprecated since 3.3 and in 3.6, you will not be able to modify a registered colormap in-place. To remove this warning, you can make a copy of the colormap first. cmap = mpl.cm.get_cmap(\"viridis\").copy()\n",
      "  newcm.set_over(newcm(1.0))\n",
      "/Users/yoachim/anaconda3/envs/testenv/lib/python3.9/site-packages/healpy/projaxes.py:921: MatplotlibDeprecationWarning: You are modifying the state of a globally registered colormap. This has been deprecated since 3.3 and in 3.6, you will not be able to modify a registered colormap in-place. To remove this warning, you can make a copy of the colormap first. cmap = mpl.cm.get_cmap(\"viridis\").copy()\n",
      "  newcm.set_under(bgcolor)\n",
      "/Users/yoachim/anaconda3/envs/testenv/lib/python3.9/site-packages/healpy/projaxes.py:922: MatplotlibDeprecationWarning: You are modifying the state of a globally registered colormap. This has been deprecated since 3.3 and in 3.6, you will not be able to modify a registered colormap in-place. To remove this warning, you can make a copy of the colormap first. cmap = mpl.cm.get_cmap(\"viridis\").copy()\n",
      "  newcm.set_bad(badcolor)\n",
      "/Users/yoachim/anaconda3/envs/testenv/lib/python3.9/site-packages/healpy/projaxes.py:202: MatplotlibDeprecationWarning: Passing parameters norm and vmin/vmax simultaneously is deprecated since 3.3 and will become an error two minor releases later. Please pass vmin/vmax directly to the norm when creating it.\n",
      "  aximg = self.imshow(\n"
     ]
    },
    {
     "data": {
      "image/png": "[encoded data removed]",
      "text/plain": [
       "<Figure size 612x388.8 with 2 Axes>"
      ]
     },
     "metadata": {
      "needs_background": "light"
     },
     "output_type": "display_data"
    }
   ],
   "source": [
    "hp.mollview(footprints_hp['r'])"
   ]
  },
  {
   "cell_type": "code",
   "execution_count": 4,
   "id": "a7fb6eb2",
   "metadata": {},
   "outputs": [
    {
     "data": {
      "text/plain": [
       "18108.599689076134"
      ]
     },
     "execution_count": 4,
     "metadata": {},
     "output_type": "execute_result"
    }
   ],
   "source": [
    "area = hp.nside2pixarea(nside, degrees=True)*np.where(footprints_hp['r'] == 1)[0].size\n",
    "area"
   ]
  },
  {
   "cell_type": "code",
   "execution_count": null,
   "id": "49521699",
   "metadata": {},
   "outputs": [],
   "source": []
  },
  {
   "cell_type": "code",
   "execution_count": null,
   "id": "cf61daa3",
   "metadata": {},
   "outputs": [],
   "source": []
  }
 ],
 "metadata": {
  "kernelspec": {
   "display_name": "Python 3",
   "language": "python",
   "name": "python3"
  },
  "language_info": {
   "codemirror_mode": {
    "name": "ipython",
    "version": 3
   },
   "file_extension": ".py",
   "mimetype": "text/x-python",
   "name": "python",
   "nbconvert_exporter": "python",
   "pygments_lexer": "ipython3",
   "version": "3.9.2"
  }
 },
 "nbformat": 4,
 "nbformat_minor": 5
}
