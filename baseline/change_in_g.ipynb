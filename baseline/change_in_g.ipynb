{
 "cells": [
  {
   "cell_type": "code",
   "execution_count": 1,
   "id": "eaf308b7",
   "metadata": {},
   "outputs": [],
   "source": [
    "import numpy as np\n",
    "import matplotlib.pylab as plt\n",
    "%matplotlib inline\n",
    "import pandas as pd\n",
    "import sqlite3"
   ]
  },
  {
   "cell_type": "code",
   "execution_count": 2,
   "id": "a63a4b21",
   "metadata": {},
   "outputs": [],
   "source": [
    "con = sqlite3.connect('baseline_v2.0_10yrs.db')\n",
    "df2 = pd.read_sql('select fiveSigmaDepth from observations where filter=\"g\";', con)"
   ]
  },
  {
   "cell_type": "code",
   "execution_count": 3,
   "id": "2e81612d",
   "metadata": {},
   "outputs": [],
   "source": [
    "con.close()\n",
    "con = sqlite3.connect('/Users/yoachim/runs17/baseline/baseline_nexp1_v1.7_10yrs.db')\n",
    "df17 = pd.read_sql('select fiveSigmaDepth from summaryallprops where filter=\"g\";', con)\n",
    "con.close()"
   ]
  },
  {
   "cell_type": "code",
   "execution_count": 4,
   "id": "8a7540f7",
   "metadata": {},
   "outputs": [
    {
     "data": {
      "text/plain": [
       "<matplotlib.legend.Legend at 0x7fe6140d6700>"
      ]
     },
     "execution_count": 4,
     "metadata": {},
     "output_type": "execute_result"
    },
    {
     "data": {
      "image/png": "[encoded data removed]",
      "text/plain": [
       "<Figure size 432x288 with 1 Axes>"
      ]
     },
     "metadata": {
      "needs_background": "light"
     },
     "output_type": "display_data"
    }
   ],
   "source": [
    "ack = plt.hist(df17, bins=20, label='v1.7')\n",
    "ack = plt.hist(df2, bins=20, alpha=0.5, label='v2.0')\n",
    "plt.xlabel('5-sigma single visit depth (mags)')\n",
    "plt.ylabel('N visits')\n",
    "plt.legend()"
   ]
  },
  {
   "cell_type": "code",
   "execution_count": 6,
   "id": "67dfe039",
   "metadata": {},
   "outputs": [
    {
     "data": {
      "text/plain": [
       "24.515525293545004"
      ]
     },
     "execution_count": 6,
     "metadata": {},
     "output_type": "execute_result"
    }
   ],
   "source": [
    "np.median(df17)"
   ]
  },
  {
   "cell_type": "code",
   "execution_count": 7,
   "id": "2afc981c",
   "metadata": {},
   "outputs": [
    {
     "data": {
      "text/plain": [
       "24.381155924995834"
      ]
     },
     "execution_count": 7,
     "metadata": {},
     "output_type": "execute_result"
    }
   ],
   "source": [
    "np.median(df2)"
   ]
  },
  {
   "cell_type": "code",
   "execution_count": null,
   "id": "89bad0ff",
   "metadata": {},
   "outputs": [],
   "source": []
  }
 ],
 "metadata": {
  "kernelspec": {
   "display_name": "Python 3 (ipykernel)",
   "language": "python",
   "name": "python3"
  },
  "language_info": {
   "codemirror_mode": {
    "name": "ipython",
    "version": 3
   },
   "file_extension": ".py",
   "mimetype": "text/x-python",
   "name": "python",
   "nbconvert_exporter": "python",
   "pygments_lexer": "ipython3",
   "version": "3.8.13"
  }
 },
 "nbformat": 4,
 "nbformat_minor": 5
}
