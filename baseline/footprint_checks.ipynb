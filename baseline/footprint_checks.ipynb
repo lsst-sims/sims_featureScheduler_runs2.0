{
 "cells": [
  {
   "cell_type": "code",
   "execution_count": 1,
   "id": "a3c89137",
   "metadata": {},
   "outputs": [],
   "source": [
    "from rubin_sim.scheduler.utils import combo_dust_fp\n",
    "import healpy as hp\n",
    "import numpy as np\n",
    "%matplotlib inline\n",
    "import matplotlib.pylab as plt"
   ]
  },
  {
   "cell_type": "code",
   "execution_count": 2,
   "id": "dfd160e1",
   "metadata": {},
   "outputs": [
    {
     "name": "stderr",
     "output_type": "stream",
     "text": [
      "/Users/yoachim/anaconda3/envs/testenv/lib/python3.9/site-packages/healpy/sphtfunc.py:822: UserWarning: Sigma is 145.234028 arcmin (0.042247 rad) \n",
      "  warnings.warn(\n",
      "/Users/yoachim/anaconda3/envs/testenv/lib/python3.9/site-packages/healpy/sphtfunc.py:827: UserWarning: -> fwhm is 342.000000 arcmin\n",
      "  warnings.warn(\n",
      "/Users/yoachim/anaconda3/envs/testenv/lib/python3.9/site-packages/healpy/sphtfunc.py:822: UserWarning: Sigma is 0.000000 arcmin (0.000000 rad) \n",
      "  warnings.warn(\n",
      "/Users/yoachim/anaconda3/envs/testenv/lib/python3.9/site-packages/healpy/sphtfunc.py:827: UserWarning: -> fwhm is 0.000000 arcmin\n",
      "  warnings.warn(\n"
     ]
    }
   ],
   "source": [
    "ack = combo_dust_fp(north_weights={})"
   ]
  },
  {
   "cell_type": "code",
   "execution_count": 7,
   "id": "35c05022",
   "metadata": {},
   "outputs": [
    {
     "data": {
      "image/png": "[encoded data removed]",
      "text/plain": [
       "<Figure size 612x388.8 with 2 Axes>"
      ]
     },
     "metadata": {
      "needs_background": "light"
     },
     "output_type": "display_data"
    }
   ],
   "source": [
    "hp.mollview(ack['r'], title='', unit='Relative r-band')"
   ]
  },
  {
   "cell_type": "code",
   "execution_count": 4,
   "id": "f9f8197b",
   "metadata": {},
   "outputs": [
    {
     "data": {
      "text/plain": [
       "19384.326029797106"
      ]
     },
     "execution_count": 4,
     "metadata": {},
     "output_type": "execute_result"
    }
   ],
   "source": [
    "np.where(ack['r'] == 1)[0].size*hp.nside2pixarea(32, degrees=True)"
   ]
  },
  {
   "cell_type": "code",
   "execution_count": null,
   "id": "9cccee27",
   "metadata": {},
   "outputs": [],
   "source": []
  }
 ],
 "metadata": {
  "kernelspec": {
   "display_name": "Python 3",
   "language": "python",
   "name": "python3"
  },
  "language_info": {
   "codemirror_mode": {
    "name": "ipython",
    "version": 3
   },
   "file_extension": ".py",
   "mimetype": "text/x-python",
   "name": "python",
   "nbconvert_exporter": "python",
   "pygments_lexer": "ipython3",
   "version": "3.9.2"
  }
 },
 "nbformat": 4,
 "nbformat_minor": 5
}
