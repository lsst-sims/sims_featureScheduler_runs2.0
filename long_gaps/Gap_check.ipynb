{
 "cells": [
  {
   "cell_type": "code",
   "execution_count": 1,
   "id": "a08b139f",
   "metadata": {},
   "outputs": [],
   "source": [
    "import os\n",
    "import numpy as np\n",
    "import pandas as pd\n",
    "import matplotlib.pyplot as plt\n",
    "%matplotlib inline\n",
    "import healpy as hp\n",
    "\n",
    "import rubin_sim.maf as maf\n",
    "import rubin_sim.utils as rsUtils"
   ]
  },
  {
   "cell_type": "code",
   "execution_count": 60,
   "id": "b47a5295",
   "metadata": {},
   "outputs": [],
   "source": [
    "#opsdb = maf.db.OpsimDatabase('long_gaps_nightsoff1_v2.0_10yrs.db')\n",
    "opsdb = maf.db.OpsimDatabase('../baseline/baseline_v2.0_10yrs.db')\n"
   ]
  },
  {
   "cell_type": "code",
   "execution_count": 61,
   "id": "1ce447c2",
   "metadata": {},
   "outputs": [],
   "source": [
    "bundleList = []\n",
    "\n",
    "metric = maf.metrics.PassMetric(cols='observationStartMJD')\n",
    "\n",
    "slicer = maf.slicers.UserPointsSlicer(ra=[0], dec=[-20])\n",
    "constraint = ''\n",
    "bundleList.append(maf.MetricBundle(metric, slicer, constraint))\n"
   ]
  },
  {
   "cell_type": "code",
   "execution_count": 62,
   "id": "45cb66ae",
   "metadata": {},
   "outputs": [],
   "source": [
    "outDir = 'temp'\n",
    "bd = maf.metricBundles.makeBundlesDictFromList(bundleList)\n",
    "bg = maf.MetricBundleGroup(bd, opsdb, outDir='temp')"
   ]
  },
  {
   "cell_type": "code",
   "execution_count": 63,
   "id": "3977807d",
   "metadata": {},
   "outputs": [
    {
     "name": "stdout",
     "output_type": "stream",
     "text": [
      "Querying database observations with no constraint for columns ['fieldDec', 'observationStartMJD', 'rotSkyPos', 'fieldRA'].\n",
      "Found 2084626 visits\n",
      "Running:  ['opsim_Pass_observationStartMJD_USER']\n",
      "Completed metric generation.\n",
      "Running reduce methods.\n",
      "Running summary statistics.\n",
      "Completed.\n"
     ]
    }
   ],
   "source": [
    "bg.runAll()"
   ]
  },
  {
   "cell_type": "code",
   "execution_count": null,
   "id": "54e3a63e",
   "metadata": {},
   "outputs": [],
   "source": []
  },
  {
   "cell_type": "code",
   "execution_count": 64,
   "id": "61273d28",
   "metadata": {},
   "outputs": [],
   "source": [
    "full_diff = bundleList[0].metricValues[0]['observationStartMJD'][:,np.newaxis] - bundleList[0].metricValues[0]['observationStartMJD']"
   ]
  },
  {
   "cell_type": "code",
   "execution_count": 65,
   "id": "484079f4",
   "metadata": {},
   "outputs": [],
   "source": [
    "good = np.where((full_diff > 0) & (full_diff < 1) )"
   ]
  },
  {
   "cell_type": "code",
   "execution_count": 66,
   "id": "9d43778a",
   "metadata": {},
   "outputs": [
    {
     "data": {
      "image/png": "[encoded data removed]",
      "text/plain": [
       "<Figure size 432x288 with 1 Axes>"
      ]
     },
     "metadata": {
      "needs_background": "light"
     },
     "output_type": "display_data"
    }
   ],
   "source": [
    "#_ack = plt.hist(full_diff[good]*24., bins=np.arange(26))\n",
    "ack = plt.hist(full_diff[good], bins=np.logspace(np.log10(0.001),np.log10(1.0), 100))\n",
    "plt.gca().set_xscale(\"log\")"
   ]
  },
  {
   "cell_type": "code",
   "execution_count": 59,
   "id": "3567bcbe",
   "metadata": {},
   "outputs": [
    {
     "data": {
      "image/png": "[encoded data removed]",
      "text/plain": [
       "<Figure size 432x288 with 1 Axes>"
      ]
     },
     "metadata": {
      "needs_background": "light"
     },
     "output_type": "display_data"
    }
   ],
   "source": [
    "ack = plt.hist(full_diff[good], bins=np.logspace(np.log10(0.001),np.log10(1.0), 100))\n",
    "plt.gca().set_xscale(\"log\")"
   ]
  },
  {
   "cell_type": "code",
   "execution_count": null,
   "id": "81eb8ddd",
   "metadata": {},
   "outputs": [],
   "source": []
  }
 ],
 "metadata": {
  "kernelspec": {
   "display_name": "Python 3",
   "language": "python",
   "name": "python3"
  },
  "language_info": {
   "codemirror_mode": {
    "name": "ipython",
    "version": 3
   },
   "file_extension": ".py",
   "mimetype": "text/x-python",
   "name": "python",
   "nbconvert_exporter": "python",
   "pygments_lexer": "ipython3",
   "version": "3.9.2"
  }
 },
 "nbformat": 4,
 "nbformat_minor": 5
}
