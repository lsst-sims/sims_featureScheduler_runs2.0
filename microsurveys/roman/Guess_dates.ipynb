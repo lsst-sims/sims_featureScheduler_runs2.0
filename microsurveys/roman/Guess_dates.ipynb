{
 "cells": [
  {
   "cell_type": "code",
   "execution_count": 17,
   "id": "3ee2a90d",
   "metadata": {},
   "outputs": [],
   "source": [
    "import os\n",
    "import numpy as np\n",
    "import pandas as pd\n",
    "import matplotlib.pyplot as plt\n",
    "%matplotlib inline\n",
    "import healpy as hp\n",
    "\n",
    "import rubin_sim.maf as maf\n",
    "import rubin_sim.utils as rsUtils\n",
    "\n",
    "from scipy.stats import binned_statistic"
   ]
  },
  {
   "cell_type": "code",
   "execution_count": 2,
   "id": "f67f05cb",
   "metadata": {},
   "outputs": [],
   "source": [
    "baseline_file = '../../baseline/baseline_v2.0_10yrs.db'\n",
    "name = os.path.basename(baseline_file).replace('.db','')\n",
    "conn = maf.db.OpsimDatabase(baseline_file)\n",
    "outDir = 'temp'\n",
    "resultsDb = maf.db.ResultsDb(outDir=outDir)"
   ]
  },
  {
   "cell_type": "code",
   "execution_count": 3,
   "id": "110bfb83",
   "metadata": {},
   "outputs": [],
   "source": [
    "bundleList = []\n",
    "# The point on the sky we would like to get visits for\n",
    "ra = [268.708]\n",
    "dec = [-28.975]\n",
    "\n",
    "\n",
    "# Say we just want to pass data through, not compute anything. Documentation on the columns coming soon.\n",
    "metric = maf.metrics.PassMetric(cols=['filter', 'observationStartMJD', 'fiveSigmaDepth'])\n",
    "# Select all the visits\n",
    "sql = ''\n",
    "slicer = maf.slicers.UserPointsSlicer(ra=ra, dec=dec)\n",
    "bundleList.append(maf.MetricBundle(metric, slicer, sql, runName=name))"
   ]
  },
  {
   "cell_type": "code",
   "execution_count": 4,
   "id": "67b49a4a",
   "metadata": {},
   "outputs": [
    {
     "name": "stdout",
     "output_type": "stream",
     "text": [
      "Querying database observations with no constraint for columns ['fiveSigmaDepth', 'observationStartMJD', 'fieldDec', 'fieldRA', 'rotSkyPos', 'filter'].\n",
      "Found 2086980 visits\n",
      "Running:  ['baseline_v2_0_10yrs_Pass_filter_observationStartMJD_fiveSigmaDepth_USER']\n",
      "Completed metric generation.\n",
      "Running reduce methods.\n",
      "Running summary statistics.\n",
      "Completed.\n"
     ]
    }
   ],
   "source": [
    "bd = maf.metricBundles.makeBundlesDictFromList(bundleList)\n",
    "bg = maf.metricBundles.MetricBundleGroup(bd, conn, outDir=outDir, resultsDb=resultsDb)\n",
    "bg.runAll()"
   ]
  },
  {
   "cell_type": "code",
   "execution_count": 12,
   "id": "b71a8d9c",
   "metadata": {},
   "outputs": [],
   "source": [
    "seasons = rsUtils.calcSeason(ra[0], bundleList[0].metricValues[0]['observationStartMJD'])"
   ]
  },
  {
   "cell_type": "code",
   "execution_count": null,
   "id": "3f897682",
   "metadata": {},
   "outputs": [],
   "source": []
  },
  {
   "cell_type": "code",
   "execution_count": 16,
   "id": "271af16d",
   "metadata": {},
   "outputs": [
    {
     "data": {
      "text/plain": [
       "[<matplotlib.lines.Line2D at 0x14225a9a0>]"
      ]
     },
     "execution_count": 16,
     "metadata": {},
     "output_type": "execute_result"
    },
    {
     "data": {
      "image/png": "[encoded data removed]",
      "text/plain": [
       "<Figure size 432x288 with 1 Axes>"
      ]
     },
     "metadata": {
      "needs_background": "light"
     },
     "output_type": "display_data"
    }
   ],
   "source": [
    "plt.plot(bundleList[0].metricValues[0]['observationStartMJD'], np.floor(seasons), 'ko')"
   ]
  },
  {
   "cell_type": "code",
   "execution_count": 26,
   "id": "c2f51000",
   "metadata": {},
   "outputs": [],
   "source": [
    "# Let's find the median observation date per seasons and pretend that's a good enough time to center on\n",
    "med_seasons, _be, _bn = binned_statistic(np.floor(seasons),\n",
    "                               bundleList[0].metricValues[0]['observationStartMJD'], statistic=np.median, bins=np.arange(11)-0.5)"
   ]
  },
  {
   "cell_type": "code",
   "execution_count": 27,
   "id": "348d77fb",
   "metadata": {},
   "outputs": [
    {
     "data": {
      "text/plain": [
       "array([60490.12357955, 60857.66536103, 61234.22234534, 61575.30992273,\n",
       "       61944.2970125 , 62324.81682753, 62676.13006456, 63067.62450042,\n",
       "       63437.04333752, 63784.09550157])"
      ]
     },
     "execution_count": 27,
     "metadata": {},
     "output_type": "execute_result"
    }
   ],
   "source": [
    "med_seasons"
   ]
  },
  {
   "cell_type": "code",
   "execution_count": null,
   "id": "ff8c648a",
   "metadata": {},
   "outputs": [],
   "source": []
  }
 ],
 "metadata": {
  "kernelspec": {
   "display_name": "Python 3",
   "language": "python",
   "name": "python3"
  },
  "language_info": {
   "codemirror_mode": {
    "name": "ipython",
    "version": 3
   },
   "file_extension": ".py",
   "mimetype": "text/x-python",
   "name": "python",
   "nbconvert_exporter": "python",
   "pygments_lexer": "ipython3",
   "version": "3.9.2"
  }
 },
 "nbformat": 4,
 "nbformat_minor": 5
}
