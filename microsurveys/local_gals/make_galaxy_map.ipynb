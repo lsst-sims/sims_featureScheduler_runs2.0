{
 "cells": [
  {
   "cell_type": "code",
   "execution_count": 1,
   "id": "c11a6936",
   "metadata": {},
   "outputs": [],
   "source": [
    "import numpy as np\n",
    "import healpy as hp\n",
    "import matplotlib.pylab as plt\n",
    "%matplotlib inline\n",
    "from rubin_sim.utils import hpid2RaDec, angularSeparation"
   ]
  },
  {
   "cell_type": "code",
   "execution_count": 2,
   "id": "c4d0139c",
   "metadata": {},
   "outputs": [],
   "source": [
    "names = ['name', 'ra', 'dec', 'MB', 'mm', 'd', 'rv1', 'rv2']\n",
    "types = ['|U7', float, float, float, float, float, float,float]\n",
    "gals = np.genfromtxt('gals.dat', dtype=list(zip(names, types)))"
   ]
  },
  {
   "cell_type": "code",
   "execution_count": 3,
   "id": "caabba5e",
   "metadata": {},
   "outputs": [
    {
     "data": {
      "text/plain": [
       "array([('NGC0247',  0.786, -20.76 , -18.6, 3.e+09, 3.72, 150., 2.3),\n",
       "       ('NGC0253',  0.793, -25.292, -21.2, 9.e+10, 3.7 , 300., 4.6),\n",
       "       ('NGC1313',  3.304, -66.498, -19.1, 4.e+09, 4.31, 150., 2. ),\n",
       "       ('NGC4945', 13.091, -49.471, -20.3, 5.e+10, 3.47, 300., 5. ),\n",
       "       ('NGC5068', 13.315, -21.039, -18.5, 5.e+09, 5.15, 150., 1.7),\n",
       "       ('NGC5102', 13.366, -36.63 , -18.2, 5.e+09, 3.66, 150., 2.2),\n",
       "       ('NGC5128', 13.425, -43.017, -20.7, 1.e+11, 3.68, 500., 7.8),\n",
       "       ('NGC5236', 13.617, -29.868, -20.6, 7.e+10, 4.9 , 300., 3.5),\n",
       "       ('IC5052', 20.868, -69.204, -17.9, 2.e+09, 5.5 , 150., 1.6),\n",
       "       ('NGC7793', 23.964, -32.59 , -18.3, 5.e+09, 3.63, 150., 2.4)],\n",
       "      dtype=[('name', '<U7'), ('ra', '<f8'), ('dec', '<f8'), ('MB', '<f8'), ('mm', '<f8'), ('d', '<f8'), ('rv1', '<f8'), ('rv2', '<f8')])"
      ]
     },
     "execution_count": 3,
     "metadata": {},
     "output_type": "execute_result"
    }
   ],
   "source": [
    "gals"
   ]
  },
  {
   "cell_type": "code",
   "execution_count": 4,
   "id": "3ea922ad",
   "metadata": {},
   "outputs": [],
   "source": [
    "nside=32\n",
    "gal_map = np.zeros(hp.nside2npix(nside), dtype=float)"
   ]
  },
  {
   "cell_type": "code",
   "execution_count": 5,
   "id": "b8b01f9a",
   "metadata": {},
   "outputs": [],
   "source": [
    "ra, dec  = hpid2RaDec(nside,np.arange(gal_map.size))"
   ]
  },
  {
   "cell_type": "code",
   "execution_count": 6,
   "id": "f6012f92",
   "metadata": {},
   "outputs": [],
   "source": [
    "for gal in gals:\n",
    "    dist = angularSeparation(ra, dec, gal['ra'], gal['dec'])\n",
    "    pix = np.where(dist <= gal['rv2'])\n",
    "    gal_map[pix] += 1"
   ]
  },
  {
   "cell_type": "code",
   "execution_count": 7,
   "id": "a2fb78eb",
   "metadata": {},
   "outputs": [
    {
     "name": "stderr",
     "output_type": "stream",
     "text": [
      "/Users/yoachim/anaconda3/envs/testenv/lib/python3.9/site-packages/healpy/projaxes.py:920: MatplotlibDeprecationWarning: You are modifying the state of a globally registered colormap. This has been deprecated since 3.3 and in 3.6, you will not be able to modify a registered colormap in-place. To remove this warning, you can make a copy of the colormap first. cmap = mpl.cm.get_cmap(\"viridis\").copy()\n",
      "  newcm.set_over(newcm(1.0))\n",
      "/Users/yoachim/anaconda3/envs/testenv/lib/python3.9/site-packages/healpy/projaxes.py:921: MatplotlibDeprecationWarning: You are modifying the state of a globally registered colormap. This has been deprecated since 3.3 and in 3.6, you will not be able to modify a registered colormap in-place. To remove this warning, you can make a copy of the colormap first. cmap = mpl.cm.get_cmap(\"viridis\").copy()\n",
      "  newcm.set_under(bgcolor)\n",
      "/Users/yoachim/anaconda3/envs/testenv/lib/python3.9/site-packages/healpy/projaxes.py:922: MatplotlibDeprecationWarning: You are modifying the state of a globally registered colormap. This has been deprecated since 3.3 and in 3.6, you will not be able to modify a registered colormap in-place. To remove this warning, you can make a copy of the colormap first. cmap = mpl.cm.get_cmap(\"viridis\").copy()\n",
      "  newcm.set_bad(badcolor)\n",
      "/Users/yoachim/anaconda3/envs/testenv/lib/python3.9/site-packages/healpy/projaxes.py:202: MatplotlibDeprecationWarning: Passing parameters norm and vmin/vmax simultaneously is deprecated since 3.3 and will become an error two minor releases later. Please pass vmin/vmax directly to the norm when creating it.\n",
      "  aximg = self.imshow(\n"
     ]
    },
    {
     "data": {
      "image/png": "[encoded data removed]",
      "text/plain": [
       "<Figure size 612x388.8 with 2 Axes>"
      ]
     },
     "metadata": {
      "needs_background": "light"
     },
     "output_type": "display_data"
    }
   ],
   "source": [
    "hp.mollview(gal_map)"
   ]
  },
  {
   "cell_type": "code",
   "execution_count": null,
   "id": "49c9bfe3",
   "metadata": {},
   "outputs": [],
   "source": []
  }
 ],
 "metadata": {
  "kernelspec": {
   "display_name": "Python 3",
   "language": "python",
   "name": "python3"
  },
  "language_info": {
   "codemirror_mode": {
    "name": "ipython",
    "version": 3
   },
   "file_extension": ".py",
   "mimetype": "text/x-python",
   "name": "python",
   "nbconvert_exporter": "python",
   "pygments_lexer": "ipython3",
   "version": "3.9.2"
  }
 },
 "nbformat": 4,
 "nbformat_minor": 5
}
