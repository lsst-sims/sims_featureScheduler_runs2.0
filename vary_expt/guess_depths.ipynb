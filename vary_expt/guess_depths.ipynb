{
 "cells": [
  {
   "cell_type": "code",
   "execution_count": 5,
   "id": "cd7e72a6",
   "metadata": {},
   "outputs": [],
   "source": [
    "import numpy as np\n",
    "import pandas as pd\n",
    "import matplotlib.pylab as plt\n",
    "%matplotlib inline\n",
    "import sqlite3\n"
   ]
  },
  {
   "cell_type": "code",
   "execution_count": 7,
   "id": "ad3dcba8",
   "metadata": {},
   "outputs": [],
   "source": [
    "conn = sqlite3.connect('../baseline/baseline_v2.0_10yrs.db')\n",
    "df = pd.read_sql('select filter,fivesigmadepth,note,sunAlt from observations;', conn)"
   ]
  },
  {
   "cell_type": "code",
   "execution_count": 12,
   "id": "3ef34f9f",
   "metadata": {},
   "outputs": [
    {
     "data": {
      "image/png": "[encoded data removed]",
      "text/plain": [
       "<Figure size 432x288 with 1 Axes>"
      ]
     },
     "metadata": {
      "needs_background": "light"
     },
     "output_type": "display_data"
    }
   ],
   "source": [
    "meds = []\n",
    "for filtername in 'ugrizy':\n",
    "    good =np.where((df['filter'].values == filtername) & (df.sunAlt < -18.))\n",
    "    _ack = plt.hist(df.fiveSigmaDepth.values[good], bins=50)\n",
    "    meds.append(np.median(df.fiveSigmaDepth.values[good]))"
   ]
  },
  {
   "cell_type": "code",
   "execution_count": 13,
   "id": "9eac5bfc",
   "metadata": {},
   "outputs": [
    {
     "data": {
      "text/plain": [
       "[23.624844680052867,\n",
       " 24.38521162608516,\n",
       " 23.93868184114946,\n",
       " 23.33648061219752,\n",
       " 22.71715626868066,\n",
       " 21.9742808366424]"
      ]
     },
     "execution_count": 13,
     "metadata": {},
     "output_type": "execute_result"
    }
   ],
   "source": [
    "meds"
   ]
  },
  {
   "cell_type": "code",
   "execution_count": 23,
   "id": "ad619c88",
   "metadata": {},
   "outputs": [
    {
     "data": {
      "image/png": "[encoded data removed]",
      "text/plain": [
       "<Figure size 432x288 with 1 Axes>"
      ]
     },
     "metadata": {
      "needs_background": "light"
     },
     "output_type": "display_data"
    }
   ],
   "source": [
    "meds = []\n",
    "for filtername in 'ugrizy':\n",
    "    good =np.where((df['filter'].values == filtername) & (df.sunAlt > -13.5))[0]\n",
    "    if np.size(good) > 0:\n",
    "        _ack = plt.hist(df.fiveSigmaDepth.values[good], bins=50)\n",
    "        meds.append(np.median(df.fiveSigmaDepth.values[good]))"
   ]
  },
  {
   "cell_type": "code",
   "execution_count": 24,
   "id": "1f670e8d",
   "metadata": {},
   "outputs": [
    {
     "data": {
      "text/plain": [
       "[23.67596963226468, 23.124997246113743, 22.43893403705834, 21.617256298321]"
      ]
     },
     "execution_count": 24,
     "metadata": {},
     "output_type": "execute_result"
    }
   ],
   "source": [
    "meds"
   ]
  },
  {
   "cell_type": "code",
   "execution_count": null,
   "id": "099e9c65",
   "metadata": {},
   "outputs": [],
   "source": []
  },
  {
   "cell_type": "code",
   "execution_count": null,
   "id": "76a069d7",
   "metadata": {},
   "outputs": [],
   "source": []
  }
 ],
 "metadata": {
  "kernelspec": {
   "display_name": "Python 3",
   "language": "python",
   "name": "python3"
  },
  "language_info": {
   "codemirror_mode": {
    "name": "ipython",
    "version": 3
   },
   "file_extension": ".py",
   "mimetype": "text/x-python",
   "name": "python",
   "nbconvert_exporter": "python",
   "pygments_lexer": "ipython3",
   "version": "3.9.2"
  }
 },
 "nbformat": 4,
 "nbformat_minor": 5
}
